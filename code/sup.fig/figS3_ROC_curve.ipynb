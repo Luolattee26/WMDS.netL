{
 "cells": [
  {
   "cell_type": "code",
   "execution_count": null,
   "metadata": {
    "execution": {
     "iopub.execute_input": "2024-03-06T08:41:31.132129Z",
     "iopub.status.busy": "2024-03-06T08:41:31.131395Z",
     "iopub.status.idle": "2024-03-06T08:41:33.257089Z",
     "shell.execute_reply": "2024-03-06T08:41:33.255996Z",
     "shell.execute_reply.started": "2024-03-06T08:41:31.132067Z"
    },
    "tags": []
   },
   "outputs": [],
   "source": [
    "# use conda env:\n",
    "# proteinML\n",
    "import sys\n",
    "sys.path.append('/data/jxwang_data/WMDS_lncRNA/code')\n",
    "from utils import *"
   ]
  },
  {
   "cell_type": "code",
   "execution_count": null,
   "metadata": {
    "execution": {
     "iopub.execute_input": "2024-03-06T08:41:33.259166Z",
     "iopub.status.busy": "2024-03-06T08:41:33.258668Z",
     "iopub.status.idle": "2024-03-06T08:41:44.547758Z",
     "shell.execute_reply": "2024-03-06T08:41:44.546758Z",
     "shell.execute_reply.started": "2024-03-06T08:41:33.259133Z"
    },
    "tags": []
   },
   "outputs": [],
   "source": [
    "pancancer_ROC_curve(input_file_path='/data/jxwang_data/WMDS_lncRNA/data_input/ml_model/combine_GTEx/useTopFeatures',\n",
    "                    out_path='/data/jxwang_data/WMDS_lncRNA/data_output/ROCofModel/GTEx_useTopFeatures',\n",
    "                    only_TCGA=False,\n",
    "                    customEndwith='GTEx_useTopFeatures',\n",
    "                    custom_input_file_path='/data/jxwang_data/WMDS_lncRNA/data_input/ml_model/combine_GTEx/useTopFeatures')"
   ]
  },
  {
   "cell_type": "code",
   "execution_count": null,
   "metadata": {},
   "outputs": [],
   "source": []
  }
 ],
 "metadata": {
  "kernelspec": {
   "display_name": "proteinML",
   "language": "python",
   "name": "proteinml"
  },
  "language_info": {
   "codemirror_mode": {
    "name": "ipython",
    "version": 3
   },
   "file_extension": ".py",
   "mimetype": "text/x-python",
   "name": "python",
   "nbconvert_exporter": "python",
   "pygments_lexer": "ipython3",
   "version": "3.12.0"
  }
 },
 "nbformat": 4,
 "nbformat_minor": 4
}
